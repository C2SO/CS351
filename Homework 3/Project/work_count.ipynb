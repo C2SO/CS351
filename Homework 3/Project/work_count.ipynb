{
  "metadata": {
    "kernelspec": {
      "display_name": "Python 3.6",
      "name": "python36",
      "language": "python"
    },
    "language_info": {
      "mimetype": "text/x-python",
      "nbconvert_exporter": "python",
      "name": "python",
      "pygments_lexer": "ipython3",
      "version": "3.6.6",
      "file_extension": ".py",
      "codemirror_mode": {
        "version": 3,
        "name": "ipython"
      }
    }
  },
  "nbformat_minor": 2,
  "nbformat": 4,
  "cells": [
    {
      "cell_type": "code",
      "source": "%%file word_count.py\n\nfrom mrjob.job import MRJob\nfrom mrjob.step import MRStep\nfrom itertools import tee\nimport re\nimport sys\n\nWORD_KEY = re.compile(r\"[\\w']+\")\n\n# New class for MRJob Word Probability\nclass MapReduce(MRJob):\n    \n    def steps(self):\n        return [\n            MRStep(mapper=self.input_file),\n            MRStep(mapper=self.set_bigrams,\n                   reducer=self.count_bigrams),\n            MRStep(reducer=self.solution)\n        ]\n    \n    # Step 1 - Edits the file's lines to make them more \"readable\"\n    def input_file(self, _, line):\n        if(line[0] != '\"'):\n            yield (None, line[line.find(\",\"):].lower())\n    \n    # Step 2 - Pull words from the string and make a bigram for every word\n    def set_bigrams(self, _, line):\n        prev = \"\"\n        # Find all the words\n        for word in WORD_KEY.findall(line):\n            if(prev != \"\"):\n                yield ((prev, word), 1)\n            prev = word\n    \n    # Step 2 - Combine all like bigrams\n    def count_bigrams(self, word, counts):\n        first_word, second_word = word\n        yield first_word, (sum(counts), second_word)\n        \n    # Function used to sort by probability\n    def mostUsed(self, x):\n        num, word = x\n        return num\n    \n    # Step 3 - Calculate percentages\n    def solution(self, word, pairs):\n        total = 0\n        \n        # Tee off the iterator so we can have 3 total runs through the data\n        pairs, secondPairs = tee(pairs)\n        pairs, secondPairs = tee(pairs)\n        \n        # First, calculate the total number of occurences of each bigram\n        for pair in pairs:\n            tempCount, _ = pair\n            total = total + tempCount\n        \n        # Second, create and print the probability list\n        probabilityList = sorted(secondPairs, key=self.mostUsed, reverse = True)\n        for tempPair in probabilityList:\n            word_count, word_key = tempPair\n            yield (word, word_key), ((float(word_count) / total), word_count)\n        \n        # Third, if the first word is \"my\", print the most used pairs\n        if (word == \"my\"):\n            for i in range(10):\n                if i == len(probabilityList): \n                    break\n                word_count, word_key = probabilityList[i]\n                yield 'Most Used - ' + str(i+1), ((word, word_key), word_count / total, word_count)\n        \n        # Third, if the first word is \"my\", print the most used pairs\n        if (word == \"my\"):\n            for i in range(10):\n                if i == len(probabilityList): \n                    break\n                word_count, word_key = probabilityList[i]\n                yield 'Most Used - ' + str(i+1), ((word, word_key), word_count / total, word_count)\n        \n        \n\n# Run the program\nif __name__ == '__main__':\n    MapReduce.run()",
      "metadata": {
        "collapsed": true,
        "trusted": true
      },
      "execution_count": 1,
      "outputs": [
        {
          "text": "Overwriting word_count.py\n",
          "name": "stdout",
          "output_type": "stream"
        }
      ]
    },
    {
      "cell_type": "code",
      "source": "!pip install mrjob",
      "metadata": {
        "trusted": true
      },
      "execution_count": 2,
      "outputs": [
        {
          "text": "Requirement already satisfied: mrjob in /home/nbuser/anaconda3_501/lib/python3.6/site-packages (0.6.8)\nRequirement already satisfied: google-cloud-storage>=1.13.1 in /home/nbuser/anaconda3_501/lib/python3.6/site-packages (from mrjob) (1.16.0)\nRequirement already satisfied: PyYAML>=3.10 in /home/nbuser/anaconda3_501/lib/python3.6/site-packages (from mrjob) (3.13)\nRequirement already satisfied: botocore>=1.6.0 in /home/nbuser/anaconda3_501/lib/python3.6/site-packages (from mrjob) (1.8.50)\nRequirement already satisfied: google-cloud-dataproc>=0.3.0 in /home/nbuser/anaconda3_501/lib/python3.6/site-packages (from mrjob) (0.3.1)\nRequirement already satisfied: boto3>=1.4.6 in /home/nbuser/anaconda3_501/lib/python3.6/site-packages (from mrjob) (1.4.8)\nRequirement already satisfied: google-cloud-logging>=1.9.0 in /home/nbuser/anaconda3_501/lib/python3.6/site-packages (from mrjob) (1.11.0)\nRequirement already satisfied: google-cloud-core<2.0dev,>=1.0.0 in /home/nbuser/anaconda3_501/lib/python3.6/site-packages (from google-cloud-storage>=1.13.1->mrjob) (1.0.0)\nRequirement already satisfied: google-auth>=1.2.0 in /home/nbuser/anaconda3_501/lib/python3.6/site-packages (from google-cloud-storage>=1.13.1->mrjob) (1.6.3)\nRequirement already satisfied: google-api-core<2.0.0dev,>=1.6.0 in /home/nbuser/anaconda3_501/lib/python3.6/site-packages (from google-cloud-storage>=1.13.1->mrjob) (1.11.0)\nRequirement already satisfied: google-resumable-media>=0.3.1 in /home/nbuser/anaconda3_501/lib/python3.6/site-packages (from google-cloud-storage>=1.13.1->mrjob) (0.3.2)\nRequirement already satisfied: python-dateutil<3.0.0,>=2.1 in /home/nbuser/anaconda3_501/lib/python3.6/site-packages (from botocore>=1.6.0->mrjob) (2.7.5)\nRequirement already satisfied: docutils>=0.10 in /home/nbuser/anaconda3_501/lib/python3.6/site-packages (from botocore>=1.6.0->mrjob) (0.14)\nRequirement already satisfied: jmespath<1.0.0,>=0.7.1 in /home/nbuser/anaconda3_501/lib/python3.6/site-packages (from botocore>=1.6.0->mrjob) (0.9.4)\nRequirement already satisfied: s3transfer<0.2.0,>=0.1.10 in /home/nbuser/anaconda3_501/lib/python3.6/site-packages (from boto3>=1.4.6->mrjob) (0.1.13)\nRequirement already satisfied: rsa>=3.1.4 in /home/nbuser/anaconda3_501/lib/python3.6/site-packages (from google-auth>=1.2.0->google-cloud-storage>=1.13.1->mrjob) (4.0)\nRequirement already satisfied: six>=1.9.0 in /home/nbuser/anaconda3_501/lib/python3.6/site-packages (from google-auth>=1.2.0->google-cloud-storage>=1.13.1->mrjob) (1.11.0)\nRequirement already satisfied: cachetools>=2.0.0 in /home/nbuser/anaconda3_501/lib/python3.6/site-packages (from google-auth>=1.2.0->google-cloud-storage>=1.13.1->mrjob) (3.1.0)\nRequirement already satisfied: pyasn1-modules>=0.2.1 in /home/nbuser/anaconda3_501/lib/python3.6/site-packages (from google-auth>=1.2.0->google-cloud-storage>=1.13.1->mrjob) (0.2.2)\nRequirement already satisfied: protobuf>=3.4.0 in /home/nbuser/anaconda3_501/lib/python3.6/site-packages (from google-api-core<2.0.0dev,>=1.6.0->google-cloud-storage>=1.13.1->mrjob) (3.7.1)\nRequirement already satisfied: setuptools>=34.0.0 in /home/nbuser/anaconda3_501/lib/python3.6/site-packages (from google-api-core<2.0.0dev,>=1.6.0->google-cloud-storage>=1.13.1->mrjob) (41.0.1)\nRequirement already satisfied: pytz in /home/nbuser/anaconda3_501/lib/python3.6/site-packages (from google-api-core<2.0.0dev,>=1.6.0->google-cloud-storage>=1.13.1->mrjob) (2018.7)\nRequirement already satisfied: googleapis-common-protos!=1.5.4,<2.0dev,>=1.5.3 in /home/nbuser/anaconda3_501/lib/python3.6/site-packages (from google-api-core<2.0.0dev,>=1.6.0->google-cloud-storage>=1.13.1->mrjob) (1.5.10)\nRequirement already satisfied: requests<3.0.0dev,>=2.18.0 in /home/nbuser/anaconda3_501/lib/python3.6/site-packages (from google-api-core<2.0.0dev,>=1.6.0->google-cloud-storage>=1.13.1->mrjob) (2.21.0)\nRequirement already satisfied: pyasn1>=0.1.3 in /home/nbuser/anaconda3_501/lib/python3.6/site-packages (from rsa>=3.1.4->google-auth>=1.2.0->google-cloud-storage>=1.13.1->mrjob) (0.4.4)\nRequirement already satisfied: chardet<3.1.0,>=3.0.2 in /home/nbuser/anaconda3_501/lib/python3.6/site-packages (from requests<3.0.0dev,>=2.18.0->google-api-core<2.0.0dev,>=1.6.0->google-cloud-storage>=1.13.1->mrjob) (3.0.4)\nRequirement already satisfied: certifi>=2017.4.17 in /home/nbuser/anaconda3_501/lib/python3.6/site-packages (from requests<3.0.0dev,>=2.18.0->google-api-core<2.0.0dev,>=1.6.0->google-cloud-storage>=1.13.1->mrjob) (2018.10.15)\nRequirement already satisfied: idna<2.9,>=2.5 in /home/nbuser/anaconda3_501/lib/python3.6/site-packages (from requests<3.0.0dev,>=2.18.0->google-api-core<2.0.0dev,>=1.6.0->google-cloud-storage>=1.13.1->mrjob) (2.7)\nRequirement already satisfied: urllib3<1.25,>=1.21.1 in /home/nbuser/anaconda3_501/lib/python3.6/site-packages (from requests<3.0.0dev,>=2.18.0->google-api-core<2.0.0dev,>=1.6.0->google-cloud-storage>=1.13.1->mrjob) (1.23)\n\u001b[33mWARNING: You are using pip version 19.1, however version 19.1.1 is available.\nYou should consider upgrading via the 'pip install --upgrade pip' command.\u001b[0m\n",
          "name": "stdout",
          "output_type": "stream"
        }
      ]
    },
    {
      "cell_type": "code",
      "source": "!python word_count.py -r local shortjokes.csv --output-dir=word_count_out --no-output",
      "metadata": {
        "trusted": true
      },
      "execution_count": 3,
      "outputs": [
        {
          "text": "Using configs in /home/nbuser/.mrjob.conf\nNo configs specified for local runner\nCreating temp directory /tmp/word_count.nbuser.20190520.052949.743500\nRunning step 1 of 3...\nRunning step 2 of 3...\nRunning step 3 of 3...\njob output is in word_count_out\nRemoving temp directory /tmp/word_count.nbuser.20190520.052949.743500...\n",
          "name": "stdout",
          "output_type": "stream"
        }
      ]
    },
    {
      "cell_type": "code",
      "source": "!python word_count.py -r emr s3://cs351-mapreduce/input/shortjokes.csv \\\n--output-dir=s3://cs351-mapreduce/word_count_out \\\n--no-output",
      "metadata": {
        "trusted": true
      },
      "execution_count": 5,
      "outputs": [
        {
          "text": "Using configs in /home/nbuser/.mrjob.conf\nAuto-created temp S3 bucket mrjob-d74222449ba74b80\nUsing s3://mrjob-d74222449ba74b80/tmp/ as our temp dir on S3\nCreating temp directory /tmp/word_count.nbuser.20190520.053323.224738\nwriting master bootstrap script to /tmp/word_count.nbuser.20190520.053323.224738/b.sh\nuploading working dir files to s3://mrjob-d74222449ba74b80/tmp/word_count.nbuser.20190520.053323.224738/files/wd...\nCopying other local files to s3://mrjob-d74222449ba74b80/tmp/word_count.nbuser.20190520.053323.224738/files/\nCreated new cluster j-3IVPRQQ73DZ94\nAdded EMR tags to cluster j-3IVPRQQ73DZ94: __mrjob_label=word_count, __mrjob_owner=nbuser, __mrjob_version=0.6.8\nWaiting for Step 1 of 3 (s-2JYTNQPYC6M3J) to complete...\n  PENDING (cluster is STARTING)\n  PENDING (cluster is STARTING)\n  PENDING (cluster is STARTING)\n  PENDING (cluster is STARTING: Configuring cluster software)\n  PENDING (cluster is BOOTSTRAPPING: Running bootstrap actions)\n  PENDING (cluster is BOOTSTRAPPING: Running bootstrap actions)\n  Connect to resource manager at: http://localhost:40185/cluster\n  RUNNING for 0:00:05\n  COMPLETED\nAttempting to fetch counters from logs...\nLooking for step log in /mnt/var/log/hadoop/steps/s-2JYTNQPYC6M3J on ec2-13-59-178-67.us-east-2.compute.amazonaws.com...\nLooking for step log in s3://mrjob-d74222449ba74b80/tmp/logs/j-3IVPRQQ73DZ94/steps/s-2JYTNQPYC6M3J...\n  Parsing step log: s3://mrjob-d74222449ba74b80/tmp/logs/j-3IVPRQQ73DZ94/steps/s-2JYTNQPYC6M3J/syslog.gz\nCounters: 35\n\tFile Input Format Counters \n\t\tBytes Read=24090649\n\tFile Output Format Counters \n\t\tBytes Written=24846557\n\tFile System Counters\n\t\tFILE: Number of bytes read=0\n\t\tFILE: Number of bytes written=688012\n\t\tFILE: Number of large read operations=0\n\t\tFILE: Number of read operations=0\n\t\tFILE: Number of write operations=0\n\t\tHDFS: Number of bytes read=372\n\t\tHDFS: Number of bytes written=24846557\n\t\tHDFS: Number of large read operations=0\n\t\tHDFS: Number of read operations=16\n\t\tHDFS: Number of write operations=8\n\t\tS3: Number of bytes read=24090649\n\t\tS3: Number of bytes written=0\n\t\tS3: Number of large read operations=0\n\t\tS3: Number of read operations=0\n\t\tS3: Number of write operations=0\n\tJob Counters \n\t\tData-local map tasks=4\n\t\tLaunched map tasks=4\n\t\tTotal megabyte-milliseconds taken by all map tasks=79687680\n\t\tTotal time spent by all map tasks (ms)=25940\n\t\tTotal time spent by all maps in occupied slots (ms)=2490240\n\t\tTotal time spent by all reduces in occupied slots (ms)=0\n\t\tTotal vcore-milliseconds taken by all map tasks=25940\n\tMap-Reduce Framework\n\t\tCPU time spent (ms)=23750\n\t\tFailed Shuffles=0\n\t\tGC time elapsed (ms)=794\n\t\tInput split bytes=372\n\t\tMap input records=231658\n\t\tMap output records=231657\n\t\tMerged Map outputs=0\n\t\tPhysical memory (bytes) snapshot=1638494208\n\t\tSpilled Records=0\n\t\tTotal committed heap usage (bytes)=1633681408\n\t\tVirtual memory (bytes) snapshot=18576306176\nWaiting for Step 2 of 3 (s-35BRJ0FOV08QC) to complete...\n  COMPLETED\nAttempting to fetch counters from logs...\nLooking for step log in /mnt/var/log/hadoop/steps/s-35BRJ0FOV08QC on ec2-13-59-178-67.us-east-2.compute.amazonaws.com...\nLooking for step log in s3://mrjob-d74222449ba74b80/tmp/logs/j-3IVPRQQ73DZ94/steps/s-35BRJ0FOV08QC...\n  Parsing step log: s3://mrjob-d74222449ba74b80/tmp/logs/j-3IVPRQQ73DZ94/steps/s-35BRJ0FOV08QC/syslog.gz\nCounters: 50\n\tFile Input Format Counters \n\t\tBytes Read=24846557\n\tFile Output Format Counters \n\t\tBytes Written=19256874\n\tFile System Counters\n\t\tFILE: Number of bytes read=11279158\n\t\tFILE: Number of bytes written=26845067\n\t\tFILE: Number of large read operations=0\n\t\tFILE: Number of read operations=0\n\t\tFILE: Number of write operations=0\n\t\tHDFS: Number of bytes read=24847301\n\t\tHDFS: Number of bytes written=19256874\n\t\tHDFS: Number of large read operations=0\n\t\tHDFS: Number of read operations=15\n\t\tHDFS: Number of write operations=2\n\tJob Counters \n\t\tData-local map tasks=4\n\t\tKilled map tasks=1\n\t\tLaunched map tasks=4\n\t\tLaunched reduce tasks=1\n\t\tTotal megabyte-milliseconds taken by all map tasks=190209024\n\t\tTotal megabyte-milliseconds taken by all reduce tasks=207826944\n\t\tTotal time spent by all map tasks (ms)=61917\n\t\tTotal time spent by all maps in occupied slots (ms)=5944032\n\t\tTotal time spent by all reduce tasks (ms)=33826\n\t\tTotal time spent by all reduces in occupied slots (ms)=6494592\n\t\tTotal vcore-milliseconds taken by all map tasks=61917\n\t\tTotal vcore-milliseconds taken by all reduce tasks=33826\n\tMap-Reduce Framework\n\t\tCPU time spent (ms)=49950\n\t\tCombine input records=0\n\t\tCombine output records=0\n\t\tFailed Shuffles=0\n\t\tGC time elapsed (ms)=446\n\t\tInput split bytes=744\n\t\tMap input records=231657\n\t\tMap output bytes=73998013\n\t\tMap output materialized bytes=14703689\n\t\tMap output records=3850073\n\t\tMerged Map outputs=4\n\t\tPhysical memory (bytes) snapshot=2231193600\n\t\tReduce input groups=901128\n\t\tReduce input records=3850073\n\t\tReduce output records=901128\n\t\tReduce shuffle bytes=14703689\n\t\tShuffled Maps =4\n\t\tSpilled Records=7700146\n\t\tTotal committed heap usage (bytes)=2230845440\n\t\tVirtual memory (bytes) snapshot=25797451776\n\tShuffle Errors\n\t\tBAD_ID=0\n\t\tCONNECTION=0\n\t\tIO_ERROR=0\n\t\tWRONG_LENGTH=0\n\t\tWRONG_MAP=0\n\t\tWRONG_REDUCE=0\nWaiting for Step 3 of 3 (s-29S8166FLTQFH) to complete...\n  COMPLETED\nAttempting to fetch counters from logs...\nLooking for step log in /mnt/var/log/hadoop/steps/s-29S8166FLTQFH on ec2-13-59-178-67.us-east-2.compute.amazonaws.com...\nLooking for step log in s3://mrjob-d74222449ba74b80/tmp/logs/j-3IVPRQQ73DZ94/steps/s-29S8166FLTQFH...\n  Parsing step log: s3://mrjob-d74222449ba74b80/tmp/logs/j-3IVPRQQ73DZ94/steps/s-29S8166FLTQFH/syslog.gz\nCounters: 54\n\tFile Input Format Counters \n\t\tBytes Read=19362542\n\tFile Output Format Counters \n\t\tBytes Written=39608072\n\tFile System Counters\n\t\tFILE: Number of bytes read=8705220\n\t\tFILE: Number of bytes written=18271299\n\t\tFILE: Number of large read operations=0\n\t\tFILE: Number of read operations=0\n\t\tFILE: Number of write operations=0\n\t\tHDFS: Number of bytes read=19363286\n\t\tHDFS: Number of bytes written=0\n\t\tHDFS: Number of large read operations=0\n\t\tHDFS: Number of read operations=8\n\t\tHDFS: Number of write operations=0\n\t\tS3: Number of bytes read=0\n\t\tS3: Number of bytes written=39608072\n\t\tS3: Number of large read operations=0\n\t\tS3: Number of read operations=0\n\t\tS3: Number of write operations=0\n\tJob Counters \n\t\tData-local map tasks=4\n\t\tLaunched map tasks=4\n\t\tLaunched reduce tasks=1\n\t\tTotal megabyte-milliseconds taken by all map tasks=77033472\n\t\tTotal megabyte-milliseconds taken by all reduce tasks=130504704\n\t\tTotal time spent by all map tasks (ms)=25076\n\t\tTotal time spent by all maps in occupied slots (ms)=2407296\n\t\tTotal time spent by all reduce tasks (ms)=21241\n\t\tTotal time spent by all reduces in occupied slots (ms)=4078272\n\t\tTotal vcore-milliseconds taken by all map tasks=25076\n\t\tTotal vcore-milliseconds taken by all reduce tasks=21241\n\tMap-Reduce Framework\n\t\tCPU time spent (ms)=28120\n\t\tCombine input records=0\n\t\tCombine output records=0\n\t\tFailed Shuffles=0\n\t\tGC time elapsed (ms)=814\n\t\tInput split bytes=744\n\t\tMap input records=901128\n\t\tMap output bytes=19256875\n\t\tMap output materialized bytes=8704524\n\t\tMap output records=901128\n\t\tMerged Map outputs=4\n\t\tPhysical memory (bytes) snapshot=3057438720\n\t\tReduce input groups=59931\n\t\tReduce input records=901128\n\t\tReduce output records=901148\n\t\tReduce shuffle bytes=8704524\n\t\tShuffled Maps =4\n\t\tSpilled Records=1802256\n\t\tTotal committed heap usage (bytes)=3078619136\n\t\tVirtual memory (bytes) snapshot=25902166016\n\tShuffle Errors\n\t\tBAD_ID=0\n\t\tCONNECTION=0\n\t\tIO_ERROR=0\n\t\tWRONG_LENGTH=0\n\t\tWRONG_MAP=0\n\t\tWRONG_REDUCE=0\njob output is in s3://cs351-mapreduce/word_count_out/\nRemoving s3 temp directory s3://mrjob-d74222449ba74b80/tmp/word_count.nbuser.20190520.053323.224738/...\nRemoving temp directory /tmp/word_count.nbuser.20190520.053323.224738...\nRemoving log files in s3://mrjob-d74222449ba74b80/tmp/logs/j-3IVPRQQ73DZ94/...\nTerminating cluster: j-3IVPRQQ73DZ94\n",
          "name": "stdout",
          "output_type": "stream"
        }
      ]
    },
    {
      "cell_type": "code",
      "source": "%%file ~/.mrjob.conf\n\n# http://mrjob.readthedocs.io/en/stable/guides/emr-opts.html\n\nrunners:\n  emr:\n    aws_access_key_id: \n    aws_secret_access_key: \n    ec2_key_pair: \n    ec2_key_pair_file: \n    region: us-east-2 # http://docs.aws.amazon.com/general/latest/gr/rande.html\n    master_instance_type: m5.xlarge # https://aws.amazon.com/emr/pricing/\n    instance_type: m5.xlarge\n    num_core_instances: 1\n    ssh_tunnel: true",
      "metadata": {
        "trusted": true
      },
      "execution_count": 4,
      "outputs": [
        {
          "text": "Overwriting /home/nbuser/.mrjob.conf\n",
          "name": "stdout",
          "output_type": "stream"
        }
      ]
    },
    {
      "cell_type": "code",
      "source": "",
      "metadata": {},
      "execution_count": null,
      "outputs": []
    }
  ]
}